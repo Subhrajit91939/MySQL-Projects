{
 "cells": [
  {
   "cell_type": "code",
   "execution_count": 32,
   "id": "61af4f20",
   "metadata": {
    "ExecuteTime": {
     "end_time": "2022-08-19T14:49:49.042700Z",
     "start_time": "2022-08-19T14:49:49.027159Z"
    }
   },
   "outputs": [],
   "source": [
    "# Data analysis and wrangling.\n",
    "import pandas as pd\n",
    "import numpy as np\n",
    "\n",
    "# For MySQL queries on pandas dataframe.\n",
    "from pandasql import sqldf\n",
    "SQLite = lambda q: sqldf(q, globals())\n",
    "\n",
    "# Suppress all the warnings\n",
    "import warnings\n",
    "warnings.filterwarnings(\"ignore\")"
   ]
  },
  {
   "cell_type": "code",
   "execution_count": 33,
   "id": "7743af42",
   "metadata": {
    "ExecuteTime": {
     "end_time": "2022-08-19T14:49:49.089612Z",
     "start_time": "2022-08-19T14:49:49.042700Z"
    }
   },
   "outputs": [],
   "source": [
    "users = pd.read_csv('Table-1 users.csv')"
   ]
  },
  {
   "cell_type": "code",
   "execution_count": 34,
   "id": "e92243dc",
   "metadata": {
    "ExecuteTime": {
     "end_time": "2022-08-19T14:49:49.464952Z",
     "start_time": "2022-08-19T14:49:49.089612Z"
    }
   },
   "outputs": [],
   "source": [
    "events = pd.read_csv('Table-2 events.csv')"
   ]
  },
  {
   "cell_type": "code",
   "execution_count": 35,
   "id": "2db9e90b",
   "metadata": {
    "ExecuteTime": {
     "end_time": "2022-08-19T14:49:49.527442Z",
     "start_time": "2022-08-19T14:49:49.464952Z"
    }
   },
   "outputs": [],
   "source": [
    "email_events = pd.read_csv('Table-3 email_events.csv')"
   ]
  },
  {
   "cell_type": "code",
   "execution_count": 36,
   "id": "2a9add6d",
   "metadata": {
    "ExecuteTime": {
     "end_time": "2022-08-19T14:49:49.543046Z",
     "start_time": "2022-08-19T14:49:49.527442Z"
    }
   },
   "outputs": [],
   "source": [
    "main_df = pd.read_excel(\"SQL Project-1 Table.xlsx\")"
   ]
  },
  {
   "cell_type": "code",
   "execution_count": 37,
   "id": "d4ad5482",
   "metadata": {
    "ExecuteTime": {
     "end_time": "2022-08-19T14:49:49.558578Z",
     "start_time": "2022-08-19T14:49:49.543046Z"
    }
   },
   "outputs": [
    {
     "data": {
      "text/html": [
       "<div>\n",
       "<style scoped>\n",
       "    .dataframe tbody tr th:only-of-type {\n",
       "        vertical-align: middle;\n",
       "    }\n",
       "\n",
       "    .dataframe tbody tr th {\n",
       "        vertical-align: top;\n",
       "    }\n",
       "\n",
       "    .dataframe thead th {\n",
       "        text-align: right;\n",
       "    }\n",
       "</style>\n",
       "<table border=\"1\" class=\"dataframe\">\n",
       "  <thead>\n",
       "    <tr style=\"text-align: right;\">\n",
       "      <th></th>\n",
       "      <th>user_id</th>\n",
       "      <th>created_at</th>\n",
       "      <th>company_id</th>\n",
       "      <th>language</th>\n",
       "      <th>activated_at</th>\n",
       "      <th>state</th>\n",
       "    </tr>\n",
       "  </thead>\n",
       "  <tbody>\n",
       "    <tr>\n",
       "      <th>0</th>\n",
       "      <td>0.0</td>\n",
       "      <td>2013-01-01 20:59:39</td>\n",
       "      <td>5737.0</td>\n",
       "      <td>english</td>\n",
       "      <td>2013-01-01 21:01:07</td>\n",
       "      <td>active</td>\n",
       "    </tr>\n",
       "    <tr>\n",
       "      <th>1</th>\n",
       "      <td>1.0</td>\n",
       "      <td>2013-01-01 13:07:46</td>\n",
       "      <td>28.0</td>\n",
       "      <td>english</td>\n",
       "      <td>NaN</td>\n",
       "      <td>pending</td>\n",
       "    </tr>\n",
       "    <tr>\n",
       "      <th>2</th>\n",
       "      <td>2.0</td>\n",
       "      <td>2013-01-01 10:59:05</td>\n",
       "      <td>51.0</td>\n",
       "      <td>english</td>\n",
       "      <td>NaN</td>\n",
       "      <td>pending</td>\n",
       "    </tr>\n",
       "    <tr>\n",
       "      <th>3</th>\n",
       "      <td>3.0</td>\n",
       "      <td>2013-01-01 18:40:36</td>\n",
       "      <td>2800.0</td>\n",
       "      <td>german</td>\n",
       "      <td>2013-01-01 18:42:02</td>\n",
       "      <td>active</td>\n",
       "    </tr>\n",
       "    <tr>\n",
       "      <th>4</th>\n",
       "      <td>4.0</td>\n",
       "      <td>2013-01-01 14:37:51</td>\n",
       "      <td>5110.0</td>\n",
       "      <td>indian</td>\n",
       "      <td>2013-01-01 14:39:05</td>\n",
       "      <td>active</td>\n",
       "    </tr>\n",
       "  </tbody>\n",
       "</table>\n",
       "</div>"
      ],
      "text/plain": [
       "   user_id           created_at  company_id language         activated_at  \\\n",
       "0      0.0  2013-01-01 20:59:39      5737.0  english  2013-01-01 21:01:07   \n",
       "1      1.0  2013-01-01 13:07:46        28.0  english                  NaN   \n",
       "2      2.0  2013-01-01 10:59:05        51.0  english                  NaN   \n",
       "3      3.0  2013-01-01 18:40:36      2800.0   german  2013-01-01 18:42:02   \n",
       "4      4.0  2013-01-01 14:37:51      5110.0   indian  2013-01-01 14:39:05   \n",
       "\n",
       "     state  \n",
       "0   active  \n",
       "1  pending  \n",
       "2  pending  \n",
       "3   active  \n",
       "4   active  "
      ]
     },
     "execution_count": 37,
     "metadata": {},
     "output_type": "execute_result"
    }
   ],
   "source": [
    "users.head()"
   ]
  },
  {
   "cell_type": "code",
   "execution_count": 38,
   "id": "0d66f47a",
   "metadata": {
    "ExecuteTime": {
     "end_time": "2022-08-19T14:49:49.589930Z",
     "start_time": "2022-08-19T14:49:49.558578Z"
    }
   },
   "outputs": [
    {
     "name": "stdout",
     "output_type": "stream",
     "text": [
      "<class 'pandas.core.frame.DataFrame'>\n",
      "RangeIndex: 19066 entries, 0 to 19065\n",
      "Data columns (total 6 columns):\n",
      " #   Column        Non-Null Count  Dtype  \n",
      "---  ------        --------------  -----  \n",
      " 0   user_id       19066 non-null  float64\n",
      " 1   created_at    19066 non-null  object \n",
      " 2   company_id    19066 non-null  float64\n",
      " 3   language      19066 non-null  object \n",
      " 4   activated_at  9381 non-null   object \n",
      " 5   state         19066 non-null  object \n",
      "dtypes: float64(2), object(4)\n",
      "memory usage: 893.8+ KB\n"
     ]
    }
   ],
   "source": [
    "users.info()"
   ]
  },
  {
   "cell_type": "code",
   "execution_count": 39,
   "id": "4f93d0df",
   "metadata": {
    "ExecuteTime": {
     "end_time": "2022-08-19T14:49:49.621162Z",
     "start_time": "2022-08-19T14:49:49.589930Z"
    }
   },
   "outputs": [],
   "source": [
    "# Convert the datatype for `created_at`, `activated_at` columns to datetime64[ns]\n",
    "users['created_at'] = pd.to_datetime(users['created_at'], errors = 'coerce')\n",
    "users['activated_at'] = pd.to_datetime(users['activated_at'], errors = 'coerce')\n",
    "\n",
    "# Convert the `user_id`, `company_id` column to integer type\n",
    "users['user_id'] = users['user_id'].astype(np.int64)\n",
    "users['company_id'] = users['company_id'].astype(np.int64)"
   ]
  },
  {
   "cell_type": "code",
   "execution_count": 40,
   "id": "b1434ee5",
   "metadata": {
    "ExecuteTime": {
     "end_time": "2022-08-19T14:49:49.636638Z",
     "start_time": "2022-08-19T14:49:49.621162Z"
    }
   },
   "outputs": [
    {
     "name": "stdout",
     "output_type": "stream",
     "text": [
      "<class 'pandas.core.frame.DataFrame'>\n",
      "RangeIndex: 19066 entries, 0 to 19065\n",
      "Data columns (total 6 columns):\n",
      " #   Column        Non-Null Count  Dtype         \n",
      "---  ------        --------------  -----         \n",
      " 0   user_id       19066 non-null  int64         \n",
      " 1   created_at    19066 non-null  datetime64[ns]\n",
      " 2   company_id    19066 non-null  int64         \n",
      " 3   language      19066 non-null  object        \n",
      " 4   activated_at  9381 non-null   datetime64[ns]\n",
      " 5   state         19066 non-null  object        \n",
      "dtypes: datetime64[ns](2), int64(2), object(2)\n",
      "memory usage: 893.8+ KB\n"
     ]
    }
   ],
   "source": [
    "users.info()"
   ]
  },
  {
   "cell_type": "code",
   "execution_count": 41,
   "id": "67c6d322",
   "metadata": {
    "ExecuteTime": {
     "end_time": "2022-08-19T14:49:49.652283Z",
     "start_time": "2022-08-19T14:49:49.636638Z"
    }
   },
   "outputs": [
    {
     "data": {
      "text/html": [
       "<div>\n",
       "<style scoped>\n",
       "    .dataframe tbody tr th:only-of-type {\n",
       "        vertical-align: middle;\n",
       "    }\n",
       "\n",
       "    .dataframe tbody tr th {\n",
       "        vertical-align: top;\n",
       "    }\n",
       "\n",
       "    .dataframe thead th {\n",
       "        text-align: right;\n",
       "    }\n",
       "</style>\n",
       "<table border=\"1\" class=\"dataframe\">\n",
       "  <thead>\n",
       "    <tr style=\"text-align: right;\">\n",
       "      <th></th>\n",
       "      <th>user_id</th>\n",
       "      <th>occurred_at</th>\n",
       "      <th>event_type</th>\n",
       "      <th>event_name</th>\n",
       "      <th>location</th>\n",
       "      <th>device</th>\n",
       "      <th>user_type</th>\n",
       "    </tr>\n",
       "  </thead>\n",
       "  <tbody>\n",
       "    <tr>\n",
       "      <th>0</th>\n",
       "      <td>10522.0</td>\n",
       "      <td>2014-05-02 11:02:39</td>\n",
       "      <td>engagement</td>\n",
       "      <td>login</td>\n",
       "      <td>Japan</td>\n",
       "      <td>dell inspiron notebook</td>\n",
       "      <td>3.0</td>\n",
       "    </tr>\n",
       "    <tr>\n",
       "      <th>1</th>\n",
       "      <td>10522.0</td>\n",
       "      <td>2014-05-02 11:02:53</td>\n",
       "      <td>engagement</td>\n",
       "      <td>home_page</td>\n",
       "      <td>Japan</td>\n",
       "      <td>dell inspiron notebook</td>\n",
       "      <td>3.0</td>\n",
       "    </tr>\n",
       "    <tr>\n",
       "      <th>2</th>\n",
       "      <td>10522.0</td>\n",
       "      <td>2014-05-02 11:03:28</td>\n",
       "      <td>engagement</td>\n",
       "      <td>like_message</td>\n",
       "      <td>Japan</td>\n",
       "      <td>dell inspiron notebook</td>\n",
       "      <td>3.0</td>\n",
       "    </tr>\n",
       "    <tr>\n",
       "      <th>3</th>\n",
       "      <td>10522.0</td>\n",
       "      <td>2014-05-02 11:04:09</td>\n",
       "      <td>engagement</td>\n",
       "      <td>view_inbox</td>\n",
       "      <td>Japan</td>\n",
       "      <td>dell inspiron notebook</td>\n",
       "      <td>3.0</td>\n",
       "    </tr>\n",
       "    <tr>\n",
       "      <th>4</th>\n",
       "      <td>10522.0</td>\n",
       "      <td>2014-05-02 11:03:16</td>\n",
       "      <td>engagement</td>\n",
       "      <td>search_run</td>\n",
       "      <td>Japan</td>\n",
       "      <td>dell inspiron notebook</td>\n",
       "      <td>3.0</td>\n",
       "    </tr>\n",
       "  </tbody>\n",
       "</table>\n",
       "</div>"
      ],
      "text/plain": [
       "   user_id          occurred_at  event_type    event_name location  \\\n",
       "0  10522.0  2014-05-02 11:02:39  engagement         login    Japan   \n",
       "1  10522.0  2014-05-02 11:02:53  engagement     home_page    Japan   \n",
       "2  10522.0  2014-05-02 11:03:28  engagement  like_message    Japan   \n",
       "3  10522.0  2014-05-02 11:04:09  engagement    view_inbox    Japan   \n",
       "4  10522.0  2014-05-02 11:03:16  engagement    search_run    Japan   \n",
       "\n",
       "                   device  user_type  \n",
       "0  dell inspiron notebook        3.0  \n",
       "1  dell inspiron notebook        3.0  \n",
       "2  dell inspiron notebook        3.0  \n",
       "3  dell inspiron notebook        3.0  \n",
       "4  dell inspiron notebook        3.0  "
      ]
     },
     "execution_count": 41,
     "metadata": {},
     "output_type": "execute_result"
    }
   ],
   "source": [
    "events.head()"
   ]
  },
  {
   "cell_type": "code",
   "execution_count": 42,
   "id": "da516d54",
   "metadata": {
    "ExecuteTime": {
     "end_time": "2022-08-19T14:49:49.855386Z",
     "start_time": "2022-08-19T14:49:49.652283Z"
    }
   },
   "outputs": [
    {
     "name": "stdout",
     "output_type": "stream",
     "text": [
      "<class 'pandas.core.frame.DataFrame'>\n",
      "RangeIndex: 340832 entries, 0 to 340831\n",
      "Data columns (total 7 columns):\n",
      " #   Column       Non-Null Count   Dtype  \n",
      "---  ------       --------------   -----  \n",
      " 0   user_id      340832 non-null  float64\n",
      " 1   occurred_at  340832 non-null  object \n",
      " 2   event_type   340832 non-null  object \n",
      " 3   event_name   340832 non-null  object \n",
      " 4   location     340832 non-null  object \n",
      " 5   device       340832 non-null  object \n",
      " 6   user_type    325255 non-null  float64\n",
      "dtypes: float64(2), object(5)\n",
      "memory usage: 18.2+ MB\n"
     ]
    }
   ],
   "source": [
    "events.info()"
   ]
  },
  {
   "cell_type": "code",
   "execution_count": 43,
   "id": "d9ff28c3",
   "metadata": {
    "ExecuteTime": {
     "end_time": "2022-08-19T14:49:50.089706Z",
     "start_time": "2022-08-19T14:49:49.855386Z"
    }
   },
   "outputs": [],
   "source": [
    "# Convert the datatype for `occurred_at` column to datetime64[ns]\n",
    "events['occurred_at'] = pd.to_datetime(events['occurred_at'], errors = 'coerce')\n",
    "\n",
    "# Convert the `user_id` column to integer type\n",
    "events['user_id'] = events['user_id'].astype('Int64')\n",
    "events['user_type'] = events['user_type'].astype('Int64')"
   ]
  },
  {
   "cell_type": "code",
   "execution_count": 44,
   "id": "34b81ac7",
   "metadata": {
    "ExecuteTime": {
     "end_time": "2022-08-19T14:49:50.245896Z",
     "start_time": "2022-08-19T14:49:50.089706Z"
    }
   },
   "outputs": [
    {
     "name": "stdout",
     "output_type": "stream",
     "text": [
      "<class 'pandas.core.frame.DataFrame'>\n",
      "RangeIndex: 340832 entries, 0 to 340831\n",
      "Data columns (total 7 columns):\n",
      " #   Column       Non-Null Count   Dtype         \n",
      "---  ------       --------------   -----         \n",
      " 0   user_id      340832 non-null  Int64         \n",
      " 1   occurred_at  340832 non-null  datetime64[ns]\n",
      " 2   event_type   340832 non-null  object        \n",
      " 3   event_name   340832 non-null  object        \n",
      " 4   location     340832 non-null  object        \n",
      " 5   device       340832 non-null  object        \n",
      " 6   user_type    325255 non-null  Int64         \n",
      "dtypes: Int64(2), datetime64[ns](1), object(4)\n",
      "memory usage: 18.9+ MB\n"
     ]
    }
   ],
   "source": [
    "events.info()"
   ]
  },
  {
   "cell_type": "code",
   "execution_count": 45,
   "id": "7ffdebe4",
   "metadata": {
    "ExecuteTime": {
     "end_time": "2022-08-19T14:49:50.261506Z",
     "start_time": "2022-08-19T14:49:50.245896Z"
    }
   },
   "outputs": [
    {
     "data": {
      "text/html": [
       "<div>\n",
       "<style scoped>\n",
       "    .dataframe tbody tr th:only-of-type {\n",
       "        vertical-align: middle;\n",
       "    }\n",
       "\n",
       "    .dataframe tbody tr th {\n",
       "        vertical-align: top;\n",
       "    }\n",
       "\n",
       "    .dataframe thead th {\n",
       "        text-align: right;\n",
       "    }\n",
       "</style>\n",
       "<table border=\"1\" class=\"dataframe\">\n",
       "  <thead>\n",
       "    <tr style=\"text-align: right;\">\n",
       "      <th></th>\n",
       "      <th>user_id</th>\n",
       "      <th>occurred_at</th>\n",
       "      <th>action</th>\n",
       "      <th>user_type</th>\n",
       "    </tr>\n",
       "  </thead>\n",
       "  <tbody>\n",
       "    <tr>\n",
       "      <th>0</th>\n",
       "      <td>0.0</td>\n",
       "      <td>2014-05-06 09:30:00</td>\n",
       "      <td>sent_weekly_digest</td>\n",
       "      <td>1.0</td>\n",
       "    </tr>\n",
       "    <tr>\n",
       "      <th>1</th>\n",
       "      <td>0.0</td>\n",
       "      <td>2014-05-13 09:30:00</td>\n",
       "      <td>sent_weekly_digest</td>\n",
       "      <td>1.0</td>\n",
       "    </tr>\n",
       "    <tr>\n",
       "      <th>2</th>\n",
       "      <td>0.0</td>\n",
       "      <td>2014-05-20 09:30:00</td>\n",
       "      <td>sent_weekly_digest</td>\n",
       "      <td>1.0</td>\n",
       "    </tr>\n",
       "    <tr>\n",
       "      <th>3</th>\n",
       "      <td>0.0</td>\n",
       "      <td>2014-05-27 09:30:00</td>\n",
       "      <td>sent_weekly_digest</td>\n",
       "      <td>1.0</td>\n",
       "    </tr>\n",
       "    <tr>\n",
       "      <th>4</th>\n",
       "      <td>0.0</td>\n",
       "      <td>2014-06-03 09:30:00</td>\n",
       "      <td>sent_weekly_digest</td>\n",
       "      <td>1.0</td>\n",
       "    </tr>\n",
       "    <tr>\n",
       "      <th>5</th>\n",
       "      <td>0.0</td>\n",
       "      <td>2014-06-03 09:30:25</td>\n",
       "      <td>email_open</td>\n",
       "      <td>1.0</td>\n",
       "    </tr>\n",
       "    <tr>\n",
       "      <th>6</th>\n",
       "      <td>0.0</td>\n",
       "      <td>2014-06-10 09:30:00</td>\n",
       "      <td>sent_weekly_digest</td>\n",
       "      <td>1.0</td>\n",
       "    </tr>\n",
       "    <tr>\n",
       "      <th>7</th>\n",
       "      <td>0.0</td>\n",
       "      <td>2014-06-10 09:30:24</td>\n",
       "      <td>email_open</td>\n",
       "      <td>1.0</td>\n",
       "    </tr>\n",
       "    <tr>\n",
       "      <th>8</th>\n",
       "      <td>0.0</td>\n",
       "      <td>2014-06-17 09:30:00</td>\n",
       "      <td>sent_weekly_digest</td>\n",
       "      <td>1.0</td>\n",
       "    </tr>\n",
       "    <tr>\n",
       "      <th>9</th>\n",
       "      <td>0.0</td>\n",
       "      <td>2014-06-17 09:30:23</td>\n",
       "      <td>email_open</td>\n",
       "      <td>1.0</td>\n",
       "    </tr>\n",
       "    <tr>\n",
       "      <th>10</th>\n",
       "      <td>0.0</td>\n",
       "      <td>2014-06-24 09:30:00</td>\n",
       "      <td>sent_weekly_digest</td>\n",
       "      <td>1.0</td>\n",
       "    </tr>\n",
       "    <tr>\n",
       "      <th>11</th>\n",
       "      <td>0.0</td>\n",
       "      <td>2014-07-01 09:30:00</td>\n",
       "      <td>sent_weekly_digest</td>\n",
       "      <td>1.0</td>\n",
       "    </tr>\n",
       "    <tr>\n",
       "      <th>12</th>\n",
       "      <td>0.0</td>\n",
       "      <td>2014-07-08 09:30:00</td>\n",
       "      <td>sent_weekly_digest</td>\n",
       "      <td>1.0</td>\n",
       "    </tr>\n",
       "    <tr>\n",
       "      <th>13</th>\n",
       "      <td>0.0</td>\n",
       "      <td>2014-07-15 09:30:00</td>\n",
       "      <td>sent_weekly_digest</td>\n",
       "      <td>1.0</td>\n",
       "    </tr>\n",
       "    <tr>\n",
       "      <th>14</th>\n",
       "      <td>0.0</td>\n",
       "      <td>2014-07-22 09:30:00</td>\n",
       "      <td>sent_weekly_digest</td>\n",
       "      <td>1.0</td>\n",
       "    </tr>\n",
       "    <tr>\n",
       "      <th>15</th>\n",
       "      <td>0.0</td>\n",
       "      <td>2014-07-29 09:30:00</td>\n",
       "      <td>sent_weekly_digest</td>\n",
       "      <td>1.0</td>\n",
       "    </tr>\n",
       "    <tr>\n",
       "      <th>16</th>\n",
       "      <td>0.0</td>\n",
       "      <td>2014-07-29 09:30:35</td>\n",
       "      <td>email_open</td>\n",
       "      <td>1.0</td>\n",
       "    </tr>\n",
       "    <tr>\n",
       "      <th>17</th>\n",
       "      <td>0.0</td>\n",
       "      <td>2014-08-05 09:30:00</td>\n",
       "      <td>sent_weekly_digest</td>\n",
       "      <td>1.0</td>\n",
       "    </tr>\n",
       "    <tr>\n",
       "      <th>18</th>\n",
       "      <td>0.0</td>\n",
       "      <td>2014-08-12 09:30:00</td>\n",
       "      <td>sent_weekly_digest</td>\n",
       "      <td>1.0</td>\n",
       "    </tr>\n",
       "    <tr>\n",
       "      <th>19</th>\n",
       "      <td>0.0</td>\n",
       "      <td>2014-08-19 09:30:00</td>\n",
       "      <td>sent_weekly_digest</td>\n",
       "      <td>1.0</td>\n",
       "    </tr>\n",
       "  </tbody>\n",
       "</table>\n",
       "</div>"
      ],
      "text/plain": [
       "    user_id          occurred_at              action  user_type\n",
       "0       0.0  2014-05-06 09:30:00  sent_weekly_digest        1.0\n",
       "1       0.0  2014-05-13 09:30:00  sent_weekly_digest        1.0\n",
       "2       0.0  2014-05-20 09:30:00  sent_weekly_digest        1.0\n",
       "3       0.0  2014-05-27 09:30:00  sent_weekly_digest        1.0\n",
       "4       0.0  2014-06-03 09:30:00  sent_weekly_digest        1.0\n",
       "5       0.0  2014-06-03 09:30:25          email_open        1.0\n",
       "6       0.0  2014-06-10 09:30:00  sent_weekly_digest        1.0\n",
       "7       0.0  2014-06-10 09:30:24          email_open        1.0\n",
       "8       0.0  2014-06-17 09:30:00  sent_weekly_digest        1.0\n",
       "9       0.0  2014-06-17 09:30:23          email_open        1.0\n",
       "10      0.0  2014-06-24 09:30:00  sent_weekly_digest        1.0\n",
       "11      0.0  2014-07-01 09:30:00  sent_weekly_digest        1.0\n",
       "12      0.0  2014-07-08 09:30:00  sent_weekly_digest        1.0\n",
       "13      0.0  2014-07-15 09:30:00  sent_weekly_digest        1.0\n",
       "14      0.0  2014-07-22 09:30:00  sent_weekly_digest        1.0\n",
       "15      0.0  2014-07-29 09:30:00  sent_weekly_digest        1.0\n",
       "16      0.0  2014-07-29 09:30:35          email_open        1.0\n",
       "17      0.0  2014-08-05 09:30:00  sent_weekly_digest        1.0\n",
       "18      0.0  2014-08-12 09:30:00  sent_weekly_digest        1.0\n",
       "19      0.0  2014-08-19 09:30:00  sent_weekly_digest        1.0"
      ]
     },
     "execution_count": 45,
     "metadata": {},
     "output_type": "execute_result"
    }
   ],
   "source": [
    "email_events.head(20)"
   ]
  },
  {
   "cell_type": "code",
   "execution_count": 46,
   "id": "7b9b93f0",
   "metadata": {
    "ExecuteTime": {
     "end_time": "2022-08-19T14:49:50.277144Z",
     "start_time": "2022-08-19T14:49:50.261506Z"
    }
   },
   "outputs": [
    {
     "data": {
      "text/plain": [
       "sent_weekly_digest         57267\n",
       "email_open                 20459\n",
       "email_clickthrough          9010\n",
       "sent_reengagement_email     3653\n",
       "Name: action, dtype: int64"
      ]
     },
     "execution_count": 46,
     "metadata": {},
     "output_type": "execute_result"
    }
   ],
   "source": [
    "email_events['action'].value_counts()"
   ]
  },
  {
   "cell_type": "code",
   "execution_count": 47,
   "id": "b00e3ade",
   "metadata": {
    "ExecuteTime": {
     "end_time": "2022-08-19T14:49:50.308389Z",
     "start_time": "2022-08-19T14:49:50.277144Z"
    }
   },
   "outputs": [
    {
     "name": "stdout",
     "output_type": "stream",
     "text": [
      "<class 'pandas.core.frame.DataFrame'>\n",
      "RangeIndex: 90389 entries, 0 to 90388\n",
      "Data columns (total 4 columns):\n",
      " #   Column       Non-Null Count  Dtype  \n",
      "---  ------       --------------  -----  \n",
      " 0   user_id      90389 non-null  float64\n",
      " 1   occurred_at  90389 non-null  object \n",
      " 2   action       90389 non-null  object \n",
      " 3   user_type    90389 non-null  float64\n",
      "dtypes: float64(2), object(2)\n",
      "memory usage: 2.8+ MB\n"
     ]
    }
   ],
   "source": [
    "email_events.info()"
   ]
  },
  {
   "cell_type": "code",
   "execution_count": 48,
   "id": "82a12311",
   "metadata": {
    "ExecuteTime": {
     "end_time": "2022-08-19T14:49:50.339648Z",
     "start_time": "2022-08-19T14:49:50.308389Z"
    }
   },
   "outputs": [],
   "source": [
    "# Convert the datatype for `occurred_at` column to datetime64[ns]\n",
    "email_events['occurred_at'] = pd.to_datetime(email_events['occurred_at'], errors = 'coerce')\n",
    "\n",
    "# Convert the `user_id` column to integer type\n",
    "email_events['user_id'] = email_events['user_id'].astype(np.int64)"
   ]
  },
  {
   "cell_type": "code",
   "execution_count": 49,
   "id": "44484510",
   "metadata": {
    "ExecuteTime": {
     "end_time": "2022-08-19T14:49:50.370890Z",
     "start_time": "2022-08-19T14:49:50.339648Z"
    }
   },
   "outputs": [
    {
     "data": {
      "text/html": [
       "<div>\n",
       "<style scoped>\n",
       "    .dataframe tbody tr th:only-of-type {\n",
       "        vertical-align: middle;\n",
       "    }\n",
       "\n",
       "    .dataframe tbody tr th {\n",
       "        vertical-align: top;\n",
       "    }\n",
       "\n",
       "    .dataframe thead th {\n",
       "        text-align: right;\n",
       "    }\n",
       "</style>\n",
       "<table border=\"1\" class=\"dataframe\">\n",
       "  <thead>\n",
       "    <tr style=\"text-align: right;\">\n",
       "      <th></th>\n",
       "      <th>ds</th>\n",
       "      <th>job_id</th>\n",
       "      <th>actor_id</th>\n",
       "      <th>event</th>\n",
       "      <th>language</th>\n",
       "      <th>time_spent</th>\n",
       "      <th>org</th>\n",
       "    </tr>\n",
       "  </thead>\n",
       "  <tbody>\n",
       "    <tr>\n",
       "      <th>0</th>\n",
       "      <td>2020-11-30</td>\n",
       "      <td>21</td>\n",
       "      <td>1001</td>\n",
       "      <td>skip</td>\n",
       "      <td>English</td>\n",
       "      <td>15</td>\n",
       "      <td>A</td>\n",
       "    </tr>\n",
       "    <tr>\n",
       "      <th>1</th>\n",
       "      <td>2020-11-30</td>\n",
       "      <td>22</td>\n",
       "      <td>1006</td>\n",
       "      <td>transfer</td>\n",
       "      <td>Arabic</td>\n",
       "      <td>25</td>\n",
       "      <td>B</td>\n",
       "    </tr>\n",
       "    <tr>\n",
       "      <th>2</th>\n",
       "      <td>2020-11-29</td>\n",
       "      <td>23</td>\n",
       "      <td>1003</td>\n",
       "      <td>decision</td>\n",
       "      <td>Persian</td>\n",
       "      <td>20</td>\n",
       "      <td>C</td>\n",
       "    </tr>\n",
       "    <tr>\n",
       "      <th>3</th>\n",
       "      <td>2020-11-28</td>\n",
       "      <td>23</td>\n",
       "      <td>1005</td>\n",
       "      <td>transfer</td>\n",
       "      <td>Persian</td>\n",
       "      <td>22</td>\n",
       "      <td>D</td>\n",
       "    </tr>\n",
       "    <tr>\n",
       "      <th>4</th>\n",
       "      <td>2020-11-28</td>\n",
       "      <td>25</td>\n",
       "      <td>1002</td>\n",
       "      <td>decision</td>\n",
       "      <td>Hindi</td>\n",
       "      <td>11</td>\n",
       "      <td>B</td>\n",
       "    </tr>\n",
       "    <tr>\n",
       "      <th>5</th>\n",
       "      <td>2020-11-27</td>\n",
       "      <td>11</td>\n",
       "      <td>1007</td>\n",
       "      <td>decision</td>\n",
       "      <td>French</td>\n",
       "      <td>104</td>\n",
       "      <td>D</td>\n",
       "    </tr>\n",
       "    <tr>\n",
       "      <th>6</th>\n",
       "      <td>2020-11-26</td>\n",
       "      <td>23</td>\n",
       "      <td>1004</td>\n",
       "      <td>skip</td>\n",
       "      <td>Persian</td>\n",
       "      <td>56</td>\n",
       "      <td>A</td>\n",
       "    </tr>\n",
       "    <tr>\n",
       "      <th>7</th>\n",
       "      <td>2020-11-25</td>\n",
       "      <td>20</td>\n",
       "      <td>1003</td>\n",
       "      <td>transfer</td>\n",
       "      <td>Italian</td>\n",
       "      <td>45</td>\n",
       "      <td>C</td>\n",
       "    </tr>\n",
       "  </tbody>\n",
       "</table>\n",
       "</div>"
      ],
      "text/plain": [
       "          ds  job_id  actor_id     event language  time_spent org\n",
       "0 2020-11-30      21      1001      skip  English          15   A\n",
       "1 2020-11-30      22      1006  transfer   Arabic          25   B\n",
       "2 2020-11-29      23      1003  decision  Persian          20   C\n",
       "3 2020-11-28      23      1005  transfer  Persian          22   D\n",
       "4 2020-11-28      25      1002  decision    Hindi          11   B\n",
       "5 2020-11-27      11      1007  decision   French         104   D\n",
       "6 2020-11-26      23      1004      skip  Persian          56   A\n",
       "7 2020-11-25      20      1003  transfer  Italian          45   C"
      ]
     },
     "execution_count": 49,
     "metadata": {},
     "output_type": "execute_result"
    }
   ],
   "source": [
    "main_df.head(10)"
   ]
  },
  {
   "cell_type": "code",
   "execution_count": 50,
   "id": "c3e5f028",
   "metadata": {
    "ExecuteTime": {
     "end_time": "2022-08-19T14:49:50.402134Z",
     "start_time": "2022-08-19T14:49:50.370890Z"
    }
   },
   "outputs": [
    {
     "name": "stdout",
     "output_type": "stream",
     "text": [
      "<class 'pandas.core.frame.DataFrame'>\n",
      "RangeIndex: 8 entries, 0 to 7\n",
      "Data columns (total 7 columns):\n",
      " #   Column      Non-Null Count  Dtype         \n",
      "---  ------      --------------  -----         \n",
      " 0   ds          8 non-null      datetime64[ns]\n",
      " 1   job_id      8 non-null      int64         \n",
      " 2   actor_id    8 non-null      int64         \n",
      " 3   event       8 non-null      object        \n",
      " 4   language    8 non-null      object        \n",
      " 5   time_spent  8 non-null      int64         \n",
      " 6   org         8 non-null      object        \n",
      "dtypes: datetime64[ns](1), int64(3), object(3)\n",
      "memory usage: 576.0+ bytes\n"
     ]
    }
   ],
   "source": [
    "main_df.info()"
   ]
  },
  {
   "cell_type": "code",
   "execution_count": 51,
   "id": "a673acb3",
   "metadata": {
    "ExecuteTime": {
     "end_time": "2022-08-19T14:49:50.417706Z",
     "start_time": "2022-08-19T14:49:50.402134Z"
    }
   },
   "outputs": [],
   "source": [
    "# Convert the datatype for `ds` column to datetime64[ns]\n",
    "main_df['ds'] = pd.to_datetime(main_df['ds'])"
   ]
  },
  {
   "cell_type": "code",
   "execution_count": 52,
   "id": "26fa49fe",
   "metadata": {
    "ExecuteTime": {
     "end_time": "2022-08-19T14:49:50.449098Z",
     "start_time": "2022-08-19T14:49:50.417706Z"
    }
   },
   "outputs": [
    {
     "data": {
      "text/html": [
       "<div>\n",
       "<style scoped>\n",
       "    .dataframe tbody tr th:only-of-type {\n",
       "        vertical-align: middle;\n",
       "    }\n",
       "\n",
       "    .dataframe tbody tr th {\n",
       "        vertical-align: top;\n",
       "    }\n",
       "\n",
       "    .dataframe thead th {\n",
       "        text-align: right;\n",
       "    }\n",
       "</style>\n",
       "<table border=\"1\" class=\"dataframe\">\n",
       "  <thead>\n",
       "    <tr style=\"text-align: right;\">\n",
       "      <th></th>\n",
       "      <th>Total no. of distinct job_id(s)</th>\n",
       "    </tr>\n",
       "  </thead>\n",
       "  <tbody>\n",
       "    <tr>\n",
       "      <th>0</th>\n",
       "      <td>8</td>\n",
       "    </tr>\n",
       "  </tbody>\n",
       "</table>\n",
       "</div>"
      ],
      "text/plain": [
       "   Total no. of distinct job_id(s)\n",
       "0                                8"
      ]
     },
     "execution_count": 52,
     "metadata": {},
     "output_type": "execute_result"
    }
   ],
   "source": [
    "# Total No. of Distinct Job IDs:\n",
    "SQLite('''\n",
    "SELECT DISTINCT\n",
    "        COUNT(job_id) AS 'Total no. of distinct job_id(s)'\n",
    "FROM main_df;\n",
    "''')"
   ]
  },
  {
   "cell_type": "markdown",
   "id": "7832aa84",
   "metadata": {},
   "source": [
    "##### **Case Study-1:**\n",
    "<hr>\n",
    "\n",
    "**Number of jobs reviewed:** Amount of jobs reviewed over time.\n",
    "\n",
    "**Your task: 1. Calculate the number of jobs reviewed per hour per day for November 2020?**"
   ]
  },
  {
   "cell_type": "code",
   "execution_count": 53,
   "id": "fa4a0595",
   "metadata": {
    "ExecuteTime": {
     "end_time": "2022-08-19T14:49:50.464592Z",
     "start_time": "2022-08-19T14:49:50.449098Z"
    }
   },
   "outputs": [
    {
     "data": {
      "text/html": [
       "<div>\n",
       "<style scoped>\n",
       "    .dataframe tbody tr th:only-of-type {\n",
       "        vertical-align: middle;\n",
       "    }\n",
       "\n",
       "    .dataframe tbody tr th {\n",
       "        vertical-align: top;\n",
       "    }\n",
       "\n",
       "    .dataframe thead th {\n",
       "        text-align: right;\n",
       "    }\n",
       "</style>\n",
       "<table border=\"1\" class=\"dataframe\">\n",
       "  <thead>\n",
       "    <tr style=\"text-align: right;\">\n",
       "      <th></th>\n",
       "      <th>Datestamp</th>\n",
       "      <th># Jobs reviewed/Hour/Day</th>\n",
       "    </tr>\n",
       "  </thead>\n",
       "  <tbody>\n",
       "    <tr>\n",
       "      <th>0</th>\n",
       "      <td>25/11/2020</td>\n",
       "      <td>80.00</td>\n",
       "    </tr>\n",
       "    <tr>\n",
       "      <th>1</th>\n",
       "      <td>27/11/2020</td>\n",
       "      <td>34.62</td>\n",
       "    </tr>\n",
       "    <tr>\n",
       "      <th>2</th>\n",
       "      <td>28/11/2020</td>\n",
       "      <td>218.18</td>\n",
       "    </tr>\n",
       "    <tr>\n",
       "      <th>3</th>\n",
       "      <td>29/11/2020</td>\n",
       "      <td>180.00</td>\n",
       "    </tr>\n",
       "  </tbody>\n",
       "</table>\n",
       "</div>"
      ],
      "text/plain": [
       "    Datestamp  # Jobs reviewed/Hour/Day\n",
       "0  25/11/2020                     80.00\n",
       "1  27/11/2020                     34.62\n",
       "2  28/11/2020                    218.18\n",
       "3  29/11/2020                    180.00"
      ]
     },
     "execution_count": 53,
     "metadata": {},
     "output_type": "execute_result"
    }
   ],
   "source": [
    "SQLite('''\n",
    "SELECT \n",
    "        strftime('%d/%m/%Y', ds) AS 'Datestamp',\n",
    "        ROUND(1.0*COUNT(job_id)*3600/SUM(time_spent),2) AS '# Jobs reviewed/Hour/Day'\n",
    "FROM main_df\n",
    "WHERE event IN ('transfer','decision')\n",
    "AND (ds >= '2020-11-01') AND (ds <= '2020-11-30')\n",
    "GROUP BY ds;\n",
    "''')"
   ]
  },
  {
   "cell_type": "markdown",
   "id": "ce2ae48b",
   "metadata": {},
   "source": [
    "**Throughput:** It is the no. of events happening per second.\n",
    "\n",
    "**Your task: 2. Let’s say the above metric is called throughput. Calculate 7 day rolling average of throughput? For throughput, do you prefer daily metric or 7-day rolling and why?**"
   ]
  },
  {
   "cell_type": "code",
   "execution_count": 68,
   "id": "d301f49c",
   "metadata": {
    "ExecuteTime": {
     "end_time": "2022-08-19T15:08:41.770349Z",
     "start_time": "2022-08-19T15:08:41.724472Z"
    },
    "scrolled": true
   },
   "outputs": [
    {
     "data": {
      "text/html": [
       "<div>\n",
       "<style scoped>\n",
       "    .dataframe tbody tr th:only-of-type {\n",
       "        vertical-align: middle;\n",
       "    }\n",
       "\n",
       "    .dataframe tbody tr th {\n",
       "        vertical-align: top;\n",
       "    }\n",
       "\n",
       "    .dataframe thead th {\n",
       "        text-align: right;\n",
       "    }\n",
       "</style>\n",
       "<table border=\"1\" class=\"dataframe\">\n",
       "  <thead>\n",
       "    <tr style=\"text-align: right;\">\n",
       "      <th></th>\n",
       "      <th>ds</th>\n",
       "      <th>throughput_7d</th>\n",
       "    </tr>\n",
       "  </thead>\n",
       "  <tbody>\n",
       "    <tr>\n",
       "      <th>0</th>\n",
       "      <td>25/11/2020</td>\n",
       "      <td>0.02</td>\n",
       "    </tr>\n",
       "    <tr>\n",
       "      <th>1</th>\n",
       "      <td>27/11/2020</td>\n",
       "      <td>0.01</td>\n",
       "    </tr>\n",
       "    <tr>\n",
       "      <th>2</th>\n",
       "      <td>28/11/2020</td>\n",
       "      <td>0.02</td>\n",
       "    </tr>\n",
       "    <tr>\n",
       "      <th>3</th>\n",
       "      <td>29/11/2020</td>\n",
       "      <td>0.02</td>\n",
       "    </tr>\n",
       "  </tbody>\n",
       "</table>\n",
       "</div>"
      ],
      "text/plain": [
       "           ds  throughput_7d\n",
       "0  25/11/2020           0.02\n",
       "1  27/11/2020           0.01\n",
       "2  28/11/2020           0.02\n",
       "3  29/11/2020           0.02"
      ]
     },
     "execution_count": 68,
     "metadata": {},
     "output_type": "execute_result"
    }
   ],
   "source": [
    "SQLite('''\n",
    "WITH CTE_throughput AS \n",
    "(SELECT\n",
    "        strftime('%d/%m/%Y', ds) AS 'ds',\n",
    "        COUNT(job_id) AS num_jobs,\n",
    "        SUM(time_spent) AS total_time\n",
    "FROM main_df\n",
    "WHERE event IN('transfer','decision')\n",
    "AND (ds >= '2020-11-01') AND (ds <= '2020-11-30')\n",
    "GROUP BY ds)\n",
    "\n",
    "SELECT \n",
    "        ds,\n",
    "        (ROUND(1.0*SUM(num_jobs) OVER (ORDER BY ds ROWS BETWEEN 6 PRECEDING AND CURRENT ROW) /\n",
    "        SUM(total_time) OVER (ORDER BY ds ROWS BETWEEN 6 PRECEDING AND CURRENT ROW),2)) \n",
    "        AS throughput_7d\n",
    "FROM CTE_throughput;\n",
    "''')"
   ]
  },
  {
   "cell_type": "markdown",
   "id": "8c28b94e",
   "metadata": {},
   "source": [
    "**Percentage share of each language:** Share of each language for different contents.\n",
    "\n",
    "**Your task: 3. Calculate the percentage share of each language in the last 30 days?**"
   ]
  },
  {
   "cell_type": "code",
   "execution_count": 54,
   "id": "4422e10e",
   "metadata": {
    "ExecuteTime": {
     "end_time": "2022-08-19T14:49:50.480215Z",
     "start_time": "2022-08-19T14:49:50.464592Z"
    }
   },
   "outputs": [
    {
     "data": {
      "text/html": [
       "<div>\n",
       "<style scoped>\n",
       "    .dataframe tbody tr th:only-of-type {\n",
       "        vertical-align: middle;\n",
       "    }\n",
       "\n",
       "    .dataframe tbody tr th {\n",
       "        vertical-align: top;\n",
       "    }\n",
       "\n",
       "    .dataframe thead th {\n",
       "        text-align: right;\n",
       "    }\n",
       "</style>\n",
       "<table border=\"1\" class=\"dataframe\">\n",
       "  <thead>\n",
       "    <tr style=\"text-align: right;\">\n",
       "      <th></th>\n",
       "      <th>Langauge</th>\n",
       "      <th>% Language Share</th>\n",
       "    </tr>\n",
       "  </thead>\n",
       "  <tbody>\n",
       "    <tr>\n",
       "      <th>0</th>\n",
       "      <td>French</td>\n",
       "      <td>16.67%</td>\n",
       "    </tr>\n",
       "    <tr>\n",
       "      <th>1</th>\n",
       "      <td>Hindi</td>\n",
       "      <td>16.67%</td>\n",
       "    </tr>\n",
       "    <tr>\n",
       "      <th>2</th>\n",
       "      <td>Italian</td>\n",
       "      <td>16.67%</td>\n",
       "    </tr>\n",
       "    <tr>\n",
       "      <th>3</th>\n",
       "      <td>Persian</td>\n",
       "      <td>50.0%</td>\n",
       "    </tr>\n",
       "  </tbody>\n",
       "</table>\n",
       "</div>"
      ],
      "text/plain": [
       "  Langauge % Language Share\n",
       "0   French           16.67%\n",
       "1    Hindi           16.67%\n",
       "2  Italian           16.67%\n",
       "3  Persian            50.0%"
      ]
     },
     "execution_count": 54,
     "metadata": {},
     "output_type": "execute_result"
    }
   ],
   "source": [
    "## Without using window function:\n",
    "SQLite('''\n",
    "SELECT DISTINCT\n",
    "        language AS 'Langauge',\n",
    "        ROUND(((COUNT(language)*100.00)/(SELECT COUNT(*) FROM main_df \n",
    "        WHERE main_df.ds BETWEEN '2020-11-01' AND '2020-11-30')), 2) || '%' AS '% Language Share'\n",
    "FROM main_df\n",
    "WHERE main_df.ds BETWEEN '2020-11-01' AND '2020-11-30'\n",
    "GROUP BY language\n",
    "ORDER BY language ASC;\n",
    "''')"
   ]
  },
  {
   "cell_type": "markdown",
   "id": "535cad50",
   "metadata": {},
   "source": [
    "**Duplicate rows:** Rows that have the same value present in them.\n",
    "\n",
    "**Your task: 4. Let’s say you see some duplicate rows in the data. How will you display duplicates from the table?**"
   ]
  },
  {
   "cell_type": "code",
   "execution_count": 55,
   "id": "a5a39ca4",
   "metadata": {
    "ExecuteTime": {
     "end_time": "2022-08-19T14:49:50.495844Z",
     "start_time": "2022-08-19T14:49:50.480215Z"
    }
   },
   "outputs": [
    {
     "data": {
      "text/html": [
       "<div>\n",
       "<style scoped>\n",
       "    .dataframe tbody tr th:only-of-type {\n",
       "        vertical-align: middle;\n",
       "    }\n",
       "\n",
       "    .dataframe tbody tr th {\n",
       "        vertical-align: top;\n",
       "    }\n",
       "\n",
       "    .dataframe thead th {\n",
       "        text-align: right;\n",
       "    }\n",
       "</style>\n",
       "<table border=\"1\" class=\"dataframe\">\n",
       "  <thead>\n",
       "    <tr style=\"text-align: right;\">\n",
       "      <th></th>\n",
       "      <th>ds</th>\n",
       "      <th>job_id</th>\n",
       "      <th>actor_id</th>\n",
       "      <th>event</th>\n",
       "      <th>language</th>\n",
       "      <th>time_spent</th>\n",
       "      <th>org</th>\n",
       "    </tr>\n",
       "  </thead>\n",
       "  <tbody>\n",
       "  </tbody>\n",
       "</table>\n",
       "</div>"
      ],
      "text/plain": [
       "Empty DataFrame\n",
       "Columns: [ds, job_id, actor_id, event, language, time_spent, org]\n",
       "Index: []"
      ]
     },
     "execution_count": 55,
     "metadata": {},
     "output_type": "execute_result"
    }
   ],
   "source": [
    "# There are no rows having duplicate values, but there are rows having same job_id.\n",
    "SQLite('''\n",
    "SELECT *\n",
    "FROM main_df\n",
    "GROUP BY ds, job_id, actor_id\n",
    "HAVING COUNT(main_df.job_id) > 1;\n",
    "''')"
   ]
  },
  {
   "cell_type": "markdown",
   "id": "13bade8d",
   "metadata": {},
   "source": [
    "##### **Case Study-2:**\n",
    "<hr>\n",
    "\n",
    "**User Engagement:** To measure the activeness of a user. Measuring if the user finds quality in a product/service.\n",
    "\n",
    "**Your task: Calculate the weekly user engagement?**"
   ]
  },
  {
   "cell_type": "code",
   "execution_count": 56,
   "id": "d9aaf1de",
   "metadata": {
    "ExecuteTime": {
     "end_time": "2022-08-19T14:49:53.860490Z",
     "start_time": "2022-08-19T14:49:50.495844Z"
    }
   },
   "outputs": [
    {
     "data": {
      "text/html": [
       "<div>\n",
       "<style scoped>\n",
       "    .dataframe tbody tr th:only-of-type {\n",
       "        vertical-align: middle;\n",
       "    }\n",
       "\n",
       "    .dataframe tbody tr th {\n",
       "        vertical-align: top;\n",
       "    }\n",
       "\n",
       "    .dataframe thead th {\n",
       "        text-align: right;\n",
       "    }\n",
       "</style>\n",
       "<table border=\"1\" class=\"dataframe\">\n",
       "  <thead>\n",
       "    <tr style=\"text-align: right;\">\n",
       "      <th></th>\n",
       "      <th>Day of week</th>\n",
       "      <th>No. of Weekly active users</th>\n",
       "    </tr>\n",
       "  </thead>\n",
       "  <tbody>\n",
       "    <tr>\n",
       "      <th>0</th>\n",
       "      <td>Sunday</td>\n",
       "      <td>1565</td>\n",
       "    </tr>\n",
       "    <tr>\n",
       "      <th>1</th>\n",
       "      <td>Monday</td>\n",
       "      <td>3075</td>\n",
       "    </tr>\n",
       "    <tr>\n",
       "      <th>2</th>\n",
       "      <td>Tuesday</td>\n",
       "      <td>3299</td>\n",
       "    </tr>\n",
       "    <tr>\n",
       "      <th>3</th>\n",
       "      <td>Wednesday</td>\n",
       "      <td>3187</td>\n",
       "    </tr>\n",
       "    <tr>\n",
       "      <th>4</th>\n",
       "      <td>Thursday</td>\n",
       "      <td>3297</td>\n",
       "    </tr>\n",
       "    <tr>\n",
       "      <th>5</th>\n",
       "      <td>Friday</td>\n",
       "      <td>3560</td>\n",
       "    </tr>\n",
       "    <tr>\n",
       "      <th>6</th>\n",
       "      <td>Saturday</td>\n",
       "      <td>2159</td>\n",
       "    </tr>\n",
       "  </tbody>\n",
       "</table>\n",
       "</div>"
      ],
      "text/plain": [
       "  Day of week  No. of Weekly active users\n",
       "0      Sunday                        1565\n",
       "1      Monday                        3075\n",
       "2     Tuesday                        3299\n",
       "3   Wednesday                        3187\n",
       "4    Thursday                        3297\n",
       "5      Friday                        3560\n",
       "6    Saturday                        2159"
      ]
     },
     "execution_count": 56,
     "metadata": {},
     "output_type": "execute_result"
    }
   ],
   "source": [
    "SQLite('''\n",
    "SELECT \n",
    "        CASE CAST (strftime('%w', E.occurred_at) AS INT)\n",
    "                WHEN 0 THEN 'Sunday'\n",
    "                WHEN 1 THEN 'Monday'\n",
    "                WHEN 2 THEN 'Tuesday'\n",
    "                WHEN 3 THEN 'Wednesday'\n",
    "                WHEN 4 THEN 'Thursday'\n",
    "                WHEN 5 THEN 'Friday'\n",
    "                ELSE 'Saturday'\n",
    "        END AS 'Day of week', \n",
    "        COUNT(DISTINCT E.user_id) AS 'No. of Weekly active users' \n",
    "FROM events AS E \n",
    "WHERE E.event_type = 'engagement' AND E.event_name = 'login' \n",
    "GROUP BY 1 \n",
    "ORDER BY strftime('%w', E.occurred_at);\n",
    "''')"
   ]
  },
  {
   "cell_type": "markdown",
   "id": "c765fda0",
   "metadata": {},
   "source": [
    "**User Growth:** Amount of users growing over time for a product.\n",
    "\n",
    "**Your task: Calculate the user growth for product?**"
   ]
  },
  {
   "cell_type": "code",
   "execution_count": 57,
   "id": "ce6eb9b6",
   "metadata": {
    "ExecuteTime": {
     "end_time": "2022-08-19T14:49:54.104135Z",
     "start_time": "2022-08-19T14:49:53.860490Z"
    }
   },
   "outputs": [
    {
     "data": {
      "text/html": [
       "<div>\n",
       "<style scoped>\n",
       "    .dataframe tbody tr th:only-of-type {\n",
       "        vertical-align: middle;\n",
       "    }\n",
       "\n",
       "    .dataframe tbody tr th {\n",
       "        vertical-align: top;\n",
       "    }\n",
       "\n",
       "    .dataframe thead th {\n",
       "        text-align: right;\n",
       "    }\n",
       "</style>\n",
       "<table border=\"1\" class=\"dataframe\">\n",
       "  <thead>\n",
       "    <tr style=\"text-align: right;\">\n",
       "      <th></th>\n",
       "      <th>Month</th>\n",
       "      <th>all_users</th>\n",
       "      <th>activated_users</th>\n",
       "    </tr>\n",
       "  </thead>\n",
       "  <tbody>\n",
       "    <tr>\n",
       "      <th>0</th>\n",
       "      <td>01-2013</td>\n",
       "      <td>332</td>\n",
       "      <td>160</td>\n",
       "    </tr>\n",
       "    <tr>\n",
       "      <th>1</th>\n",
       "      <td>02-2013</td>\n",
       "      <td>328</td>\n",
       "      <td>160</td>\n",
       "    </tr>\n",
       "    <tr>\n",
       "      <th>2</th>\n",
       "      <td>03-2013</td>\n",
       "      <td>383</td>\n",
       "      <td>150</td>\n",
       "    </tr>\n",
       "    <tr>\n",
       "      <th>3</th>\n",
       "      <td>04-2013</td>\n",
       "      <td>410</td>\n",
       "      <td>181</td>\n",
       "    </tr>\n",
       "    <tr>\n",
       "      <th>4</th>\n",
       "      <td>05-2013</td>\n",
       "      <td>486</td>\n",
       "      <td>214</td>\n",
       "    </tr>\n",
       "    <tr>\n",
       "      <th>5</th>\n",
       "      <td>06-2013</td>\n",
       "      <td>485</td>\n",
       "      <td>213</td>\n",
       "    </tr>\n",
       "    <tr>\n",
       "      <th>6</th>\n",
       "      <td>07-2013</td>\n",
       "      <td>608</td>\n",
       "      <td>284</td>\n",
       "    </tr>\n",
       "    <tr>\n",
       "      <th>7</th>\n",
       "      <td>08-2013</td>\n",
       "      <td>636</td>\n",
       "      <td>316</td>\n",
       "    </tr>\n",
       "    <tr>\n",
       "      <th>8</th>\n",
       "      <td>09-2013</td>\n",
       "      <td>699</td>\n",
       "      <td>330</td>\n",
       "    </tr>\n",
       "    <tr>\n",
       "      <th>9</th>\n",
       "      <td>10-2013</td>\n",
       "      <td>826</td>\n",
       "      <td>390</td>\n",
       "    </tr>\n",
       "    <tr>\n",
       "      <th>10</th>\n",
       "      <td>11-2013</td>\n",
       "      <td>816</td>\n",
       "      <td>399</td>\n",
       "    </tr>\n",
       "    <tr>\n",
       "      <th>11</th>\n",
       "      <td>12-2013</td>\n",
       "      <td>935</td>\n",
       "      <td>464</td>\n",
       "    </tr>\n",
       "  </tbody>\n",
       "</table>\n",
       "</div>"
      ],
      "text/plain": [
       "      Month  all_users  activated_users\n",
       "0   01-2013        332              160\n",
       "1   02-2013        328              160\n",
       "2   03-2013        383              150\n",
       "3   04-2013        410              181\n",
       "4   05-2013        486              214\n",
       "5   06-2013        485              213\n",
       "6   07-2013        608              284\n",
       "7   08-2013        636              316\n",
       "8   09-2013        699              330\n",
       "9   10-2013        826              390\n",
       "10  11-2013        816              399\n",
       "11  12-2013        935              464"
      ]
     },
     "execution_count": 57,
     "metadata": {},
     "output_type": "execute_result"
    }
   ],
   "source": [
    "# Product growth over different months for the year of 2013:\n",
    "SQLite('''\n",
    "SELECT \n",
    "        strftime('%m-%Y', U.created_at) AS 'Month',\n",
    "        \n",
    "        COUNT(*) AS all_users, \n",
    "        \n",
    "        COUNT(CASE WHEN U.activated_at IS NOT NULL \n",
    "        THEN U.user_id ELSE NULL END) AS activated_users \n",
    "FROM users AS U\n",
    "WHERE U.created_at BETWEEN '2013-01-01' AND '2013-12-31'\n",
    "GROUP BY 1\n",
    "ORDER BY 1;\n",
    "''')"
   ]
  },
  {
   "cell_type": "code",
   "execution_count": 58,
   "id": "90eab559",
   "metadata": {
    "ExecuteTime": {
     "end_time": "2022-08-19T14:49:54.327475Z",
     "start_time": "2022-08-19T14:49:54.107069Z"
    }
   },
   "outputs": [
    {
     "data": {
      "text/html": [
       "<div>\n",
       "<style scoped>\n",
       "    .dataframe tbody tr th:only-of-type {\n",
       "        vertical-align: middle;\n",
       "    }\n",
       "\n",
       "    .dataframe tbody tr th {\n",
       "        vertical-align: top;\n",
       "    }\n",
       "\n",
       "    .dataframe thead th {\n",
       "        text-align: right;\n",
       "    }\n",
       "</style>\n",
       "<table border=\"1\" class=\"dataframe\">\n",
       "  <thead>\n",
       "    <tr style=\"text-align: right;\">\n",
       "      <th></th>\n",
       "      <th>Month</th>\n",
       "      <th>all_users</th>\n",
       "      <th>activated_users</th>\n",
       "    </tr>\n",
       "  </thead>\n",
       "  <tbody>\n",
       "    <tr>\n",
       "      <th>0</th>\n",
       "      <td>01-2014</td>\n",
       "      <td>1083</td>\n",
       "      <td>552</td>\n",
       "    </tr>\n",
       "    <tr>\n",
       "      <th>1</th>\n",
       "      <td>02-2014</td>\n",
       "      <td>1054</td>\n",
       "      <td>525</td>\n",
       "    </tr>\n",
       "    <tr>\n",
       "      <th>2</th>\n",
       "      <td>03-2014</td>\n",
       "      <td>1231</td>\n",
       "      <td>615</td>\n",
       "    </tr>\n",
       "    <tr>\n",
       "      <th>3</th>\n",
       "      <td>04-2014</td>\n",
       "      <td>1419</td>\n",
       "      <td>726</td>\n",
       "    </tr>\n",
       "    <tr>\n",
       "      <th>4</th>\n",
       "      <td>05-2014</td>\n",
       "      <td>1597</td>\n",
       "      <td>779</td>\n",
       "    </tr>\n",
       "    <tr>\n",
       "      <th>5</th>\n",
       "      <td>06-2014</td>\n",
       "      <td>1728</td>\n",
       "      <td>873</td>\n",
       "    </tr>\n",
       "    <tr>\n",
       "      <th>6</th>\n",
       "      <td>07-2014</td>\n",
       "      <td>1983</td>\n",
       "      <td>997</td>\n",
       "    </tr>\n",
       "    <tr>\n",
       "      <th>7</th>\n",
       "      <td>08-2014</td>\n",
       "      <td>1990</td>\n",
       "      <td>1031</td>\n",
       "    </tr>\n",
       "  </tbody>\n",
       "</table>\n",
       "</div>"
      ],
      "text/plain": [
       "     Month  all_users  activated_users\n",
       "0  01-2014       1083              552\n",
       "1  02-2014       1054              525\n",
       "2  03-2014       1231              615\n",
       "3  04-2014       1419              726\n",
       "4  05-2014       1597              779\n",
       "5  06-2014       1728              873\n",
       "6  07-2014       1983              997\n",
       "7  08-2014       1990             1031"
      ]
     },
     "execution_count": 58,
     "metadata": {},
     "output_type": "execute_result"
    }
   ],
   "source": [
    "# Product growth over different months for the year of 2013:\n",
    "SQLite('''\n",
    "SELECT \n",
    "        strftime('%m-%Y', U.created_at) AS 'Month',\n",
    "        \n",
    "        COUNT(*) AS all_users, \n",
    "        \n",
    "        COUNT(CASE WHEN U.activated_at IS NOT NULL \n",
    "        THEN U.user_id ELSE NULL END) AS activated_users \n",
    "FROM users AS U\n",
    "WHERE U.created_at BETWEEN '2014-01-01' AND '2014-12-31'\n",
    "GROUP BY 1\n",
    "ORDER BY 1;\n",
    "''')"
   ]
  },
  {
   "cell_type": "markdown",
   "id": "4d9aa9fd",
   "metadata": {},
   "source": [
    "**Weekly Retention:** Users getting retained weekly after signing-up for a product.\n",
    "\n",
    "**Your task: Calculate the weekly retention of users-sign up cohort?**"
   ]
  },
  {
   "cell_type": "code",
   "execution_count": 70,
   "id": "afc64026",
   "metadata": {
    "ExecuteTime": {
     "end_time": "2022-08-19T15:36:54.975103Z",
     "start_time": "2022-08-19T15:36:54.745542Z"
    }
   },
   "outputs": [
    {
     "data": {
      "text/html": [
       "<div>\n",
       "<style scoped>\n",
       "    .dataframe tbody tr th:only-of-type {\n",
       "        vertical-align: middle;\n",
       "    }\n",
       "\n",
       "    .dataframe tbody tr th {\n",
       "        vertical-align: top;\n",
       "    }\n",
       "\n",
       "    .dataframe thead th {\n",
       "        text-align: right;\n",
       "    }\n",
       "</style>\n",
       "<table border=\"1\" class=\"dataframe\">\n",
       "  <thead>\n",
       "    <tr style=\"text-align: right;\">\n",
       "      <th></th>\n",
       "      <th>Day of week</th>\n",
       "      <th>No. of Weekly active users</th>\n",
       "    </tr>\n",
       "  </thead>\n",
       "  <tbody>\n",
       "    <tr>\n",
       "      <th>0</th>\n",
       "      <td>Sunday</td>\n",
       "      <td>486</td>\n",
       "    </tr>\n",
       "    <tr>\n",
       "      <th>1</th>\n",
       "      <td>Monday</td>\n",
       "      <td>1661</td>\n",
       "    </tr>\n",
       "    <tr>\n",
       "      <th>2</th>\n",
       "      <td>Tuesday</td>\n",
       "      <td>1621</td>\n",
       "    </tr>\n",
       "    <tr>\n",
       "      <th>3</th>\n",
       "      <td>Wednesday</td>\n",
       "      <td>1694</td>\n",
       "    </tr>\n",
       "    <tr>\n",
       "      <th>4</th>\n",
       "      <td>Thursday</td>\n",
       "      <td>1729</td>\n",
       "    </tr>\n",
       "    <tr>\n",
       "      <th>5</th>\n",
       "      <td>Friday</td>\n",
       "      <td>1719</td>\n",
       "    </tr>\n",
       "    <tr>\n",
       "      <th>6</th>\n",
       "      <td>Saturday</td>\n",
       "      <td>471</td>\n",
       "    </tr>\n",
       "  </tbody>\n",
       "</table>\n",
       "</div>"
      ],
      "text/plain": [
       "  Day of week  No. of Weekly active users\n",
       "0      Sunday                         486\n",
       "1      Monday                        1661\n",
       "2     Tuesday                        1621\n",
       "3   Wednesday                        1694\n",
       "4    Thursday                        1729\n",
       "5      Friday                        1719\n",
       "6    Saturday                         471"
      ]
     },
     "execution_count": 70,
     "metadata": {},
     "output_type": "execute_result"
    }
   ],
   "source": [
    "SQLite('''\n",
    "SELECT \n",
    "        CASE CAST (strftime('%w', U.activated_at) AS INT)\n",
    "                WHEN 0 THEN 'Sunday'\n",
    "                WHEN 1 THEN 'Monday'\n",
    "                WHEN 2 THEN 'Tuesday'\n",
    "                WHEN 3 THEN 'Wednesday'\n",
    "                WHEN 4 THEN 'Thursday'\n",
    "                WHEN 5 THEN 'Friday'\n",
    "                ELSE 'Saturday'\n",
    "        END AS 'Day of week', \n",
    "        COUNT(DISTINCT U.user_id) AS 'No. of Weekly active users' \n",
    "FROM users AS U \n",
    "WHERE U.state = 'active'\n",
    "GROUP BY 1 \n",
    "ORDER BY strftime('%w', U.activated_at);\n",
    "''')"
   ]
  },
  {
   "cell_type": "markdown",
   "id": "01014e63",
   "metadata": {},
   "source": [
    "**Weekly Engagement:** To measure the activeness of a user. Measuring if the user finds quality in a product/service weekly.\n",
    "\n",
    "**Your task: Calculate the weekly engagement per device?**"
   ]
  },
  {
   "cell_type": "code",
   "execution_count": 60,
   "id": "73559f8b",
   "metadata": {
    "ExecuteTime": {
     "end_time": "2022-08-19T14:49:57.802042Z",
     "start_time": "2022-08-19T14:49:54.344422Z"
    },
    "scrolled": true
   },
   "outputs": [
    {
     "data": {
      "text/html": [
       "<div>\n",
       "<style scoped>\n",
       "    .dataframe tbody tr th:only-of-type {\n",
       "        vertical-align: middle;\n",
       "    }\n",
       "\n",
       "    .dataframe tbody tr th {\n",
       "        vertical-align: top;\n",
       "    }\n",
       "\n",
       "    .dataframe thead th {\n",
       "        text-align: right;\n",
       "    }\n",
       "</style>\n",
       "<table border=\"1\" class=\"dataframe\">\n",
       "  <thead>\n",
       "    <tr style=\"text-align: right;\">\n",
       "      <th></th>\n",
       "      <th>device</th>\n",
       "    </tr>\n",
       "  </thead>\n",
       "  <tbody>\n",
       "    <tr>\n",
       "      <th>0</th>\n",
       "      <td>acer aspire desktop</td>\n",
       "    </tr>\n",
       "    <tr>\n",
       "      <th>1</th>\n",
       "      <td>acer aspire notebook</td>\n",
       "    </tr>\n",
       "    <tr>\n",
       "      <th>2</th>\n",
       "      <td>amazon fire phone</td>\n",
       "    </tr>\n",
       "    <tr>\n",
       "      <th>3</th>\n",
       "      <td>asus chromebook</td>\n",
       "    </tr>\n",
       "    <tr>\n",
       "      <th>4</th>\n",
       "      <td>dell inspiron desktop</td>\n",
       "    </tr>\n",
       "    <tr>\n",
       "      <th>5</th>\n",
       "      <td>dell inspiron notebook</td>\n",
       "    </tr>\n",
       "    <tr>\n",
       "      <th>6</th>\n",
       "      <td>hp pavilion desktop</td>\n",
       "    </tr>\n",
       "    <tr>\n",
       "      <th>7</th>\n",
       "      <td>htc one</td>\n",
       "    </tr>\n",
       "    <tr>\n",
       "      <th>8</th>\n",
       "      <td>ipad air</td>\n",
       "    </tr>\n",
       "    <tr>\n",
       "      <th>9</th>\n",
       "      <td>ipad mini</td>\n",
       "    </tr>\n",
       "    <tr>\n",
       "      <th>10</th>\n",
       "      <td>iphone 4s</td>\n",
       "    </tr>\n",
       "    <tr>\n",
       "      <th>11</th>\n",
       "      <td>iphone 5</td>\n",
       "    </tr>\n",
       "    <tr>\n",
       "      <th>12</th>\n",
       "      <td>iphone 5s</td>\n",
       "    </tr>\n",
       "    <tr>\n",
       "      <th>13</th>\n",
       "      <td>kindle fire</td>\n",
       "    </tr>\n",
       "    <tr>\n",
       "      <th>14</th>\n",
       "      <td>lenovo thinkpad</td>\n",
       "    </tr>\n",
       "    <tr>\n",
       "      <th>15</th>\n",
       "      <td>mac mini</td>\n",
       "    </tr>\n",
       "    <tr>\n",
       "      <th>16</th>\n",
       "      <td>macbook air</td>\n",
       "    </tr>\n",
       "    <tr>\n",
       "      <th>17</th>\n",
       "      <td>macbook pro</td>\n",
       "    </tr>\n",
       "    <tr>\n",
       "      <th>18</th>\n",
       "      <td>nexus 10</td>\n",
       "    </tr>\n",
       "    <tr>\n",
       "      <th>19</th>\n",
       "      <td>nexus 5</td>\n",
       "    </tr>\n",
       "    <tr>\n",
       "      <th>20</th>\n",
       "      <td>nexus 7</td>\n",
       "    </tr>\n",
       "    <tr>\n",
       "      <th>21</th>\n",
       "      <td>nokia lumia 635</td>\n",
       "    </tr>\n",
       "    <tr>\n",
       "      <th>22</th>\n",
       "      <td>samsumg galaxy tablet</td>\n",
       "    </tr>\n",
       "    <tr>\n",
       "      <th>23</th>\n",
       "      <td>samsung galaxy note</td>\n",
       "    </tr>\n",
       "    <tr>\n",
       "      <th>24</th>\n",
       "      <td>samsung galaxy s4</td>\n",
       "    </tr>\n",
       "    <tr>\n",
       "      <th>25</th>\n",
       "      <td>windows surface</td>\n",
       "    </tr>\n",
       "  </tbody>\n",
       "</table>\n",
       "</div>"
      ],
      "text/plain": [
       "                    device\n",
       "0      acer aspire desktop\n",
       "1     acer aspire notebook\n",
       "2        amazon fire phone\n",
       "3          asus chromebook\n",
       "4    dell inspiron desktop\n",
       "5   dell inspiron notebook\n",
       "6      hp pavilion desktop\n",
       "7                  htc one\n",
       "8                 ipad air\n",
       "9                ipad mini\n",
       "10               iphone 4s\n",
       "11                iphone 5\n",
       "12               iphone 5s\n",
       "13             kindle fire\n",
       "14         lenovo thinkpad\n",
       "15                mac mini\n",
       "16             macbook air\n",
       "17             macbook pro\n",
       "18                nexus 10\n",
       "19                 nexus 5\n",
       "20                 nexus 7\n",
       "21         nokia lumia 635\n",
       "22   samsumg galaxy tablet\n",
       "23     samsung galaxy note\n",
       "24       samsung galaxy s4\n",
       "25         windows surface"
      ]
     },
     "execution_count": 60,
     "metadata": {},
     "output_type": "execute_result"
    }
   ],
   "source": [
    "# Different devices used by the users:\n",
    "SQLite('''\n",
    "SELECT DISTINCT device\n",
    "FROM events\n",
    "ORDER BY 1\n",
    "LIMIT 100;\n",
    "''')"
   ]
  },
  {
   "cell_type": "code",
   "execution_count": 61,
   "id": "af9d5324",
   "metadata": {
    "ExecuteTime": {
     "end_time": "2022-08-19T14:50:01.339045Z",
     "start_time": "2022-08-19T14:49:57.806044Z"
    }
   },
   "outputs": [
    {
     "data": {
      "text/html": [
       "<div>\n",
       "<style scoped>\n",
       "    .dataframe tbody tr th:only-of-type {\n",
       "        vertical-align: middle;\n",
       "    }\n",
       "\n",
       "    .dataframe tbody tr th {\n",
       "        vertical-align: top;\n",
       "    }\n",
       "\n",
       "    .dataframe thead th {\n",
       "        text-align: right;\n",
       "    }\n",
       "</style>\n",
       "<table border=\"1\" class=\"dataframe\">\n",
       "  <thead>\n",
       "    <tr style=\"text-align: right;\">\n",
       "      <th></th>\n",
       "      <th>Day of week</th>\n",
       "      <th>weekly active users</th>\n",
       "      <th>Computer</th>\n",
       "      <th>Phone</th>\n",
       "      <th>Tablet</th>\n",
       "    </tr>\n",
       "  </thead>\n",
       "  <tbody>\n",
       "    <tr>\n",
       "      <th>0</th>\n",
       "      <td>Sunday</td>\n",
       "      <td>1565</td>\n",
       "      <td>945</td>\n",
       "      <td>525</td>\n",
       "      <td>197</td>\n",
       "    </tr>\n",
       "    <tr>\n",
       "      <th>1</th>\n",
       "      <td>Monday</td>\n",
       "      <td>3075</td>\n",
       "      <td>2060</td>\n",
       "      <td>1346</td>\n",
       "      <td>527</td>\n",
       "    </tr>\n",
       "    <tr>\n",
       "      <th>2</th>\n",
       "      <td>Tuesday</td>\n",
       "      <td>3299</td>\n",
       "      <td>2272</td>\n",
       "      <td>1481</td>\n",
       "      <td>572</td>\n",
       "    </tr>\n",
       "    <tr>\n",
       "      <th>3</th>\n",
       "      <td>Wednesday</td>\n",
       "      <td>3187</td>\n",
       "      <td>2219</td>\n",
       "      <td>1467</td>\n",
       "      <td>537</td>\n",
       "    </tr>\n",
       "    <tr>\n",
       "      <th>4</th>\n",
       "      <td>Thursday</td>\n",
       "      <td>3297</td>\n",
       "      <td>2296</td>\n",
       "      <td>1553</td>\n",
       "      <td>568</td>\n",
       "    </tr>\n",
       "    <tr>\n",
       "      <th>5</th>\n",
       "      <td>Friday</td>\n",
       "      <td>3560</td>\n",
       "      <td>2469</td>\n",
       "      <td>1717</td>\n",
       "      <td>647</td>\n",
       "    </tr>\n",
       "    <tr>\n",
       "      <th>6</th>\n",
       "      <td>Saturday</td>\n",
       "      <td>2159</td>\n",
       "      <td>1328</td>\n",
       "      <td>868</td>\n",
       "      <td>329</td>\n",
       "    </tr>\n",
       "  </tbody>\n",
       "</table>\n",
       "</div>"
      ],
      "text/plain": [
       "  Day of week  weekly active users  Computer  Phone  Tablet\n",
       "0      Sunday                 1565       945    525     197\n",
       "1      Monday                 3075      2060   1346     527\n",
       "2     Tuesday                 3299      2272   1481     572\n",
       "3   Wednesday                 3187      2219   1467     537\n",
       "4    Thursday                 3297      2296   1553     568\n",
       "5      Friday                 3560      2469   1717     647\n",
       "6    Saturday                 2159      1328    868     329"
      ]
     },
     "execution_count": 61,
     "metadata": {},
     "output_type": "execute_result"
    }
   ],
   "source": [
    "# the weekly engagement of users per device\n",
    "SQLite('''\n",
    "SELECT \n",
    "        CASE CAST (strftime('%w', E.occurred_at) AS INT)\n",
    "                WHEN 0 THEN 'Sunday'\n",
    "                WHEN 1 THEN 'Monday'\n",
    "                WHEN 2 THEN 'Tuesday'\n",
    "                WHEN 3 THEN 'Wednesday'\n",
    "                WHEN 4 THEN 'Thursday'\n",
    "                WHEN 5 THEN 'Friday'\n",
    "                ELSE 'Saturday'\n",
    "        END AS 'Day of week',\n",
    "        \n",
    "        COUNT(DISTINCT E.user_id) AS 'weekly active users', \n",
    "        \n",
    "        COUNT(DISTINCT CASE WHEN E.device \n",
    "                IN('asus chromebook', 'acer aspire notebook','acer aspire desktop', \n",
    "                'dell inspiron notebook', 'dell inspiron desktop', 'hp pavilion desktop', \n",
    "                'macbook pro', 'macbook air', 'mac mini', 'lenovo thinkpad') \n",
    "                THEN E.user_id ELSE NULL END) AS 'Computer',\n",
    "        \n",
    "        COUNT(DISTINCT CASE WHEN E.device \n",
    "                IN('iphone 5', 'samsung galaxy s4', 'nexus 5', 'iphone 5s', 'iphone 4s',\n",
    "                'nokia lumia 635', 'htc one', 'samsung galaxy note', 'amazon fire phone') \n",
    "                THEN E.user_id ELSE NULL END) AS 'Phone', \n",
    "        \n",
    "        COUNT(DISTINCT CASE WHEN E.device \n",
    "                IN('ipad air','nexus 7','ipad mini', 'nexus 10', \n",
    "                'kindle fire', 'windows surface', 'samsung galaxy tablet') \n",
    "                THEN E.user_id ELSE NULL END) AS 'Tablet' \n",
    "FROM events AS E \n",
    "WHERE E.event_type = 'engagement' AND E.event_name = 'login' \n",
    "GROUP BY 1\n",
    "ORDER BY strftime('%w', E.occurred_at)\n",
    "LIMIT 150;\n",
    "''')"
   ]
  },
  {
   "cell_type": "markdown",
   "id": "cf4e2874",
   "metadata": {},
   "source": [
    "**Email Engagement:** Users engaging with the email service.\n",
    "\n",
    "**Your task: Calculate the email engagement metrics?**"
   ]
  },
  {
   "cell_type": "code",
   "execution_count": 62,
   "id": "09437eee",
   "metadata": {
    "ExecuteTime": {
     "end_time": "2022-08-19T14:50:02.196725Z",
     "start_time": "2022-08-19T14:50:01.341042Z"
    }
   },
   "outputs": [
    {
     "data": {
      "text/html": [
       "<div>\n",
       "<style scoped>\n",
       "    .dataframe tbody tr th:only-of-type {\n",
       "        vertical-align: middle;\n",
       "    }\n",
       "\n",
       "    .dataframe tbody tr th {\n",
       "        vertical-align: top;\n",
       "    }\n",
       "\n",
       "    .dataframe thead th {\n",
       "        text-align: right;\n",
       "    }\n",
       "</style>\n",
       "<table border=\"1\" class=\"dataframe\">\n",
       "  <thead>\n",
       "    <tr style=\"text-align: right;\">\n",
       "      <th></th>\n",
       "      <th>Day of week</th>\n",
       "      <th>weekly emails</th>\n",
       "      <th>reengagement emails</th>\n",
       "      <th>emails opened</th>\n",
       "      <th>email clickthroughs</th>\n",
       "    </tr>\n",
       "  </thead>\n",
       "  <tbody>\n",
       "    <tr>\n",
       "      <th>0</th>\n",
       "      <td>Sunday</td>\n",
       "      <td>0</td>\n",
       "      <td>711</td>\n",
       "      <td>619</td>\n",
       "      <td>565</td>\n",
       "    </tr>\n",
       "    <tr>\n",
       "      <th>1</th>\n",
       "      <td>Monday</td>\n",
       "      <td>15927</td>\n",
       "      <td>635</td>\n",
       "      <td>5431</td>\n",
       "      <td>2230</td>\n",
       "    </tr>\n",
       "    <tr>\n",
       "      <th>2</th>\n",
       "      <td>Tuesday</td>\n",
       "      <td>10323</td>\n",
       "      <td>660</td>\n",
       "      <td>3711</td>\n",
       "      <td>1649</td>\n",
       "    </tr>\n",
       "    <tr>\n",
       "      <th>3</th>\n",
       "      <td>Wednesday</td>\n",
       "      <td>9620</td>\n",
       "      <td>169</td>\n",
       "      <td>2996</td>\n",
       "      <td>1110</td>\n",
       "    </tr>\n",
       "    <tr>\n",
       "      <th>4</th>\n",
       "      <td>Thursday</td>\n",
       "      <td>10883</td>\n",
       "      <td>177</td>\n",
       "      <td>3430</td>\n",
       "      <td>1289</td>\n",
       "    </tr>\n",
       "    <tr>\n",
       "      <th>5</th>\n",
       "      <td>Friday</td>\n",
       "      <td>10514</td>\n",
       "      <td>666</td>\n",
       "      <td>3711</td>\n",
       "      <td>1651</td>\n",
       "    </tr>\n",
       "    <tr>\n",
       "      <th>6</th>\n",
       "      <td>Saturday</td>\n",
       "      <td>0</td>\n",
       "      <td>635</td>\n",
       "      <td>561</td>\n",
       "      <td>516</td>\n",
       "    </tr>\n",
       "  </tbody>\n",
       "</table>\n",
       "</div>"
      ],
      "text/plain": [
       "  Day of week  weekly emails  reengagement emails  emails opened  \\\n",
       "0      Sunday              0                  711            619   \n",
       "1      Monday          15927                  635           5431   \n",
       "2     Tuesday          10323                  660           3711   \n",
       "3   Wednesday           9620                  169           2996   \n",
       "4    Thursday          10883                  177           3430   \n",
       "5      Friday          10514                  666           3711   \n",
       "6    Saturday              0                  635            561   \n",
       "\n",
       "   email clickthroughs  \n",
       "0                  565  \n",
       "1                 2230  \n",
       "2                 1649  \n",
       "3                 1110  \n",
       "4                 1289  \n",
       "5                 1651  \n",
       "6                  516  "
      ]
     },
     "execution_count": 62,
     "metadata": {},
     "output_type": "execute_result"
    }
   ],
   "source": [
    "SQLite('''\n",
    "SELECT \n",
    "        CASE CAST (strftime('%w', E.occurred_at) AS INT)\n",
    "                WHEN 0 THEN 'Sunday'\n",
    "                WHEN 1 THEN 'Monday'\n",
    "                WHEN 2 THEN 'Tuesday'\n",
    "                WHEN 3 THEN 'Wednesday'\n",
    "                WHEN 4 THEN 'Thursday'\n",
    "                WHEN 5 THEN 'Friday'\n",
    "                ELSE 'Saturday'\n",
    "        END AS 'Day of week', \n",
    "        \n",
    "        COUNT(CASE WHEN E.action = 'sent_weekly_digest' \n",
    "        THEN E.user_id ELSE NULL END) AS 'weekly emails',\n",
    "        \n",
    "        COUNT(CASE WHEN E.action = 'sent_reengagement_email' \n",
    "        THEN E.user_id ELSE NULL END) AS 'reengagement emails', \n",
    "        \n",
    "        COUNT(CASE WHEN E.action = 'email_open' \n",
    "        THEN E.user_id ELSE NULL END) AS 'emails opened', \n",
    "        \n",
    "        COUNT(CASE WHEN E.action = 'email_clickthrough' \n",
    "        THEN E.user_id ELSE NULL END) AS 'email clickthroughs' \n",
    "FROM email_events AS E \n",
    "GROUP BY 1\n",
    "ORDER BY strftime('%w', E.occurred_at);\n",
    "''')"
   ]
  }
 ],
 "metadata": {
  "kernelspec": {
   "display_name": "Python 3 (ipykernel)",
   "language": "python",
   "name": "python3"
  },
  "language_info": {
   "codemirror_mode": {
    "name": "ipython",
    "version": 3
   },
   "file_extension": ".py",
   "mimetype": "text/x-python",
   "name": "python",
   "nbconvert_exporter": "python",
   "pygments_lexer": "ipython3",
   "version": "3.9.12"
  }
 },
 "nbformat": 4,
 "nbformat_minor": 5
}
